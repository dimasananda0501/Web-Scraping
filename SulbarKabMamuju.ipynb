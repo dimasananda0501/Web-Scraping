{
 "cells": [
  {
   "cell_type": "code",
   "execution_count": 1,
   "metadata": {},
   "outputs": [],
   "source": [
    "import requests\n",
    "from bs4 import BeautifulSoup\n",
    "import pandas as pd\n",
    "import re\n",
    "from datetime import datetime as dt"
   ]
  },
  {
   "cell_type": "code",
   "execution_count": 2,
   "metadata": {},
   "outputs": [],
   "source": [
    "url = \"https://covid19.sulbarprov.go.id/utama/data\"\n",
    "html_content = requests.get(url).text\n",
    "soup = BeautifulSoup(html_content,\"html.parser\")"
   ]
  },
  {
   "cell_type": "code",
   "execution_count": 3,
   "metadata": {},
   "outputs": [],
   "source": [
    "covid = soup.find(\"table\",class_=\"table-responsive\")\n",
    "data = covid.find_all(\"tr\")[5].text.split()[1:]"
   ]
  },
  {
   "cell_type": "code",
   "execution_count": 4,
   "metadata": {},
   "outputs": [],
   "source": [
    "date = soup.find(\"div\",class_=\"checkout-title\").span.text\n",
    "tanggal_update = date.split()[3]\n",
    "date_update = dt.strptime(tanggal_update, '%d-%m-%Y').strftime('%Y-%m-%d')\n",
    "scrape_date = dt.now().strftime('%Y-%m-%d')"
   ]
  },
  {
   "cell_type": "code",
   "execution_count": 5,
   "metadata": {},
   "outputs": [],
   "source": [
    "kabkot = \"Mamuju\"\n",
    "provinsi = 'Sulawesi Barat'\n",
    "types = 'kabkot'\n",
    "user_pic = 'Dimas Ananda'"
   ]
  },
  {
   "cell_type": "code",
   "execution_count": 6,
   "metadata": {},
   "outputs": [],
   "source": [
    "df0 = pd.DataFrame(data=[data],columns=[\"Kabupaten\",\"Jumlah\",\"Dirawat\",\"Isolasi Mandiri\",\"Sembuh\",\"Meninggal\"])"
   ]
  },
  {
   "cell_type": "code",
   "execution_count": 7,
   "metadata": {},
   "outputs": [],
   "source": [
    "#scrape_date, date_update, provinsi, kabkot, kecamatan, kelurahan, total_odp, total_pdp, total_positif, positif_sembuh, positif_dirawat, positif_isolasi, positif_meninggal, types, source_link, user_pic\n",
    "df = {'scrape_date': scrape_date,\n",
    "      'date_update': date_update,\n",
    "        'provinsi': provinsi,\n",
    "        'kabkot' : kabkot,\n",
    "        'kecamatan': \"\",\n",
    "        'kelurahan':\"\",\n",
    "        'total_odp' : \"\",\n",
    "        'total_pdp': \"\",\n",
    "        'total_positif':df0['Jumlah'],\n",
    "        'positif_sembuh':df0['Sembuh'],\n",
    "        'positif_dirawat':df0['Dirawat'],\n",
    "        'positif_isolasi':df0['Isolasi Mandiri'],\n",
    "        'positif_meninggal':df0['Meninggal'],\n",
    "        'types':types,\n",
    "        'source_link': url,\n",
    "        'user_pic': user_pic}\n",
    "df = pd.DataFrame(df) "
   ]
  },
  {
   "cell_type": "code",
   "execution_count": 8,
   "metadata": {},
   "outputs": [
    {
     "data": {
      "text/html": [
       "<div>\n",
       "<style scoped>\n",
       "    .dataframe tbody tr th:only-of-type {\n",
       "        vertical-align: middle;\n",
       "    }\n",
       "\n",
       "    .dataframe tbody tr th {\n",
       "        vertical-align: top;\n",
       "    }\n",
       "\n",
       "    .dataframe thead th {\n",
       "        text-align: right;\n",
       "    }\n",
       "</style>\n",
       "<table border=\"1\" class=\"dataframe\">\n",
       "  <thead>\n",
       "    <tr style=\"text-align: right;\">\n",
       "      <th></th>\n",
       "      <th>scrape_date</th>\n",
       "      <th>date_update</th>\n",
       "      <th>provinsi</th>\n",
       "      <th>kabkot</th>\n",
       "      <th>kecamatan</th>\n",
       "      <th>kelurahan</th>\n",
       "      <th>total_odp</th>\n",
       "      <th>total_pdp</th>\n",
       "      <th>total_positif</th>\n",
       "      <th>positif_sembuh</th>\n",
       "      <th>positif_dirawat</th>\n",
       "      <th>positif_isolasi</th>\n",
       "      <th>positif_meninggal</th>\n",
       "      <th>types</th>\n",
       "      <th>source_link</th>\n",
       "      <th>user_pic</th>\n",
       "    </tr>\n",
       "  </thead>\n",
       "  <tbody>\n",
       "    <tr>\n",
       "      <th>0</th>\n",
       "      <td>2021-05-07</td>\n",
       "      <td>2021-05-05</td>\n",
       "      <td>Sulawesi Barat</td>\n",
       "      <td>Mamuju</td>\n",
       "      <td></td>\n",
       "      <td></td>\n",
       "      <td></td>\n",
       "      <td></td>\n",
       "      <td>1477</td>\n",
       "      <td>1448</td>\n",
       "      <td>2</td>\n",
       "      <td>15</td>\n",
       "      <td>12</td>\n",
       "      <td>kabkot</td>\n",
       "      <td>https://covid19.sulbarprov.go.id/utama/data</td>\n",
       "      <td>Dimas Ananda</td>\n",
       "    </tr>\n",
       "  </tbody>\n",
       "</table>\n",
       "</div>"
      ],
      "text/plain": [
       "  scrape_date date_update        provinsi  kabkot kecamatan kelurahan  \\\n",
       "0  2021-05-07  2021-05-05  Sulawesi Barat  Mamuju                       \n",
       "\n",
       "  total_odp total_pdp total_positif positif_sembuh positif_dirawat  \\\n",
       "0                              1477           1448               2   \n",
       "\n",
       "  positif_isolasi positif_meninggal   types  \\\n",
       "0              15                12  kabkot   \n",
       "\n",
       "                                   source_link      user_pic  \n",
       "0  https://covid19.sulbarprov.go.id/utama/data  Dimas Ananda  "
      ]
     },
     "execution_count": 8,
     "metadata": {},
     "output_type": "execute_result"
    }
   ],
   "source": [
    "df"
   ]
  },
  {
   "cell_type": "code",
   "execution_count": null,
   "metadata": {},
   "outputs": [],
   "source": []
  }
 ],
 "metadata": {
  "kernelspec": {
   "display_name": "Python 3",
   "language": "python",
   "name": "python3"
  },
  "language_info": {
   "codemirror_mode": {
    "name": "ipython",
    "version": 3
   },
   "file_extension": ".py",
   "mimetype": "text/x-python",
   "name": "python",
   "nbconvert_exporter": "python",
   "pygments_lexer": "ipython3",
   "version": "3.7.10"
  }
 },
 "nbformat": 4,
 "nbformat_minor": 4
}
