{
 "cells": [
  {
   "cell_type": "code",
   "execution_count": 1,
   "id": "d1af1ec2",
   "metadata": {},
   "outputs": [],
   "source": [
    "import requests\n",
    "from bs4 import BeautifulSoup\n",
    "import pandas as pd\n",
    "import re\n",
    "from datetime import datetime as dt"
   ]
  },
  {
   "cell_type": "code",
   "execution_count": 2,
   "id": "89ebf448",
   "metadata": {},
   "outputs": [],
   "source": [
    "url = \"http://corona.lamandaukab.go.id/\"\n",
    "html_content = requests.get(url).text\n",
    "soup = BeautifulSoup(html_content,\"html.parser\")"
   ]
  },
  {
   "cell_type": "code",
   "execution_count": 3,
   "id": "a0259a07",
   "metadata": {},
   "outputs": [],
   "source": [
    "#Covid\n",
    "covid = soup.find_all(\"div\",class_=\"col-lg-3 col-md-6 col-sm-12\")\n",
    "data = []\n",
    "head = []\n",
    "for i in range(0,len(covid)):\n",
    "    datas = int(covid[i].h3.text)\n",
    "    heads = str(covid[i].p.text)\n",
    "    data.append(datas)\n",
    "    head.append(heads)\n",
    "df0=pd.DataFrame(data=[data], columns=head)"
   ]
  },
  {
   "cell_type": "code",
   "execution_count": 4,
   "id": "c2f81eee",
   "metadata": {},
   "outputs": [],
   "source": [
    "#Date\n",
    "scrape_date = dt.now().strftime('%Y-%m-%d')\n",
    "date=str(soup.find(\"img\",class_=\"d-block w-100\")['src']).replace('_',' ').replace('/',' ')\n",
    "tanggal = date.split()[1:3]\n",
    "bulan = ['januari', 'februari', 'maret', 'april', 'mei', 'juni','juli','agustus', 'september', 'oktober','november','desember']\n",
    "bln = bulan.index(tanggal[1].lower())+1\n",
    "tanggal_update = dt.now().strftime('%Y') +'-'+str(bln)+'-'+tanggal[0]\n",
    "date_update = dt.strptime(tanggal_update, '%Y-%m-%d').strftime('%Y-%m-%d')\n",
    "#Other\n",
    "kabkot = \"Lamandau\"\n",
    "provinsi = 'Kalimantan Tengah'\n",
    "types = 'kabkot'\n",
    "user_pic = 'dimas ananda'"
   ]
  },
  {
   "cell_type": "code",
   "execution_count": 5,
   "id": "3f3a0233",
   "metadata": {},
   "outputs": [],
   "source": [
    "df = {'scrape_date': scrape_date,\n",
    "      'date_update': date_update,\n",
    "        'provinsi': provinsi,\n",
    "        'kabkot' : kabkot,\n",
    "        'kecamatan': \"\",\n",
    "        'kelurahan':\"\",\n",
    "        'total_odp' : df0['Kontak Erat'],\n",
    "        'total_pdp': df0['Kasus Suspek'] + df0['Probable'],\n",
    "        'total_positif':df0['Terkonfimasi Positif'],\n",
    "        'positif_sembuh':df0['Sembuh'],\n",
    "        'positif_dirawat':df0[\"Perawatan\"],\n",
    "        'positif_isolasi':\"\",\n",
    "        'positif_meninggal':df0['Meninggal'],\n",
    "        'types':types,\n",
    "        'source_link': url,\n",
    "        'user_pic': user_pic}\n",
    "df = pd.DataFrame(df) "
   ]
  },
  {
   "cell_type": "code",
   "execution_count": 6,
   "id": "314d26dd",
   "metadata": {},
   "outputs": [
    {
     "data": {
      "text/html": [
       "<div>\n",
       "<style scoped>\n",
       "    .dataframe tbody tr th:only-of-type {\n",
       "        vertical-align: middle;\n",
       "    }\n",
       "\n",
       "    .dataframe tbody tr th {\n",
       "        vertical-align: top;\n",
       "    }\n",
       "\n",
       "    .dataframe thead th {\n",
       "        text-align: right;\n",
       "    }\n",
       "</style>\n",
       "<table border=\"1\" class=\"dataframe\">\n",
       "  <thead>\n",
       "    <tr style=\"text-align: right;\">\n",
       "      <th></th>\n",
       "      <th>scrape_date</th>\n",
       "      <th>date_update</th>\n",
       "      <th>provinsi</th>\n",
       "      <th>kabkot</th>\n",
       "      <th>kecamatan</th>\n",
       "      <th>kelurahan</th>\n",
       "      <th>total_odp</th>\n",
       "      <th>total_pdp</th>\n",
       "      <th>total_positif</th>\n",
       "      <th>positif_sembuh</th>\n",
       "      <th>positif_dirawat</th>\n",
       "      <th>positif_isolasi</th>\n",
       "      <th>positif_meninggal</th>\n",
       "      <th>types</th>\n",
       "      <th>source_link</th>\n",
       "      <th>user_pic</th>\n",
       "    </tr>\n",
       "  </thead>\n",
       "  <tbody>\n",
       "    <tr>\n",
       "      <th>0</th>\n",
       "      <td>2021-05-17</td>\n",
       "      <td>2021-05-17</td>\n",
       "      <td>Kalimantan Tengah</td>\n",
       "      <td>Lamandau</td>\n",
       "      <td></td>\n",
       "      <td></td>\n",
       "      <td>0</td>\n",
       "      <td>0</td>\n",
       "      <td>516</td>\n",
       "      <td>498</td>\n",
       "      <td>12</td>\n",
       "      <td></td>\n",
       "      <td>6</td>\n",
       "      <td>kabkot</td>\n",
       "      <td>http://corona.lamandaukab.go.id/</td>\n",
       "      <td>dimas ananda</td>\n",
       "    </tr>\n",
       "  </tbody>\n",
       "</table>\n",
       "</div>"
      ],
      "text/plain": [
       "  scrape_date date_update           provinsi    kabkot kecamatan kelurahan  \\\n",
       "0  2021-05-17  2021-05-17  Kalimantan Tengah  Lamandau                       \n",
       "\n",
       "   total_odp  total_pdp  total_positif  positif_sembuh  positif_dirawat  \\\n",
       "0          0          0            516             498               12   \n",
       "\n",
       "  positif_isolasi  positif_meninggal   types  \\\n",
       "0                                  6  kabkot   \n",
       "\n",
       "                        source_link      user_pic  \n",
       "0  http://corona.lamandaukab.go.id/  dimas ananda  "
      ]
     },
     "execution_count": 6,
     "metadata": {},
     "output_type": "execute_result"
    }
   ],
   "source": [
    "df"
   ]
  }
 ],
 "metadata": {
  "kernelspec": {
   "display_name": "Python 3",
   "language": "python",
   "name": "python3"
  },
  "language_info": {
   "codemirror_mode": {
    "name": "ipython",
    "version": 3
   },
   "file_extension": ".py",
   "mimetype": "text/x-python",
   "name": "python",
   "nbconvert_exporter": "python",
   "pygments_lexer": "ipython3",
   "version": "3.7.10"
  }
 },
 "nbformat": 4,
 "nbformat_minor": 5
}
