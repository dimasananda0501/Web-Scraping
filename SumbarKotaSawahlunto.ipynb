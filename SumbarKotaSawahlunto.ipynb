{
 "cells": [
  {
   "cell_type": "code",
   "execution_count": 1,
   "metadata": {},
   "outputs": [],
   "source": [
    "import requests\n",
    "from bs4 import BeautifulSoup\n",
    "import pandas as pd\n",
    "import re\n",
    "from datetime import datetime as dt"
   ]
  },
  {
   "cell_type": "code",
   "execution_count": 2,
   "metadata": {},
   "outputs": [],
   "source": [
    "url = \"https://covid19.sawahluntokota.go.id/\"\n",
    "html_content = requests.get(url).text\n",
    "soup = BeautifulSoup(html_content,\"html.parser\")"
   ]
  },
  {
   "cell_type": "code",
   "execution_count": 3,
   "metadata": {},
   "outputs": [],
   "source": [
    "covid = soup.find(\"div\",class_=\"row pb-4 mb-4 border-bottom d-flex justify-content-center\").text\n",
    "data = []\n",
    "for word in covid.split():\n",
    "    if word.isdigit():\n",
    "        data.append(int(word))"
   ]
  },
  {
   "cell_type": "code",
   "execution_count": 15,
   "metadata": {},
   "outputs": [
    {
     "data": {
      "text/plain": [
       "[93, 0, 12, 42, 9, 576]"
      ]
     },
     "execution_count": 15,
     "metadata": {},
     "output_type": "execute_result"
    }
   ],
   "source": [
    "data[1::2]"
   ]
  },
  {
   "cell_type": "code",
   "execution_count": 4,
   "metadata": {},
   "outputs": [],
   "source": [
    "date = soup.find(\"h5\",class_=\"text-center\").text\n",
    "tanggal = date[8:21].split()\n",
    "bulan = ['januari', 'februari', 'maret', 'april', 'mei', 'juni','juli','agustus', 'september', 'oktober','november','desember']\n",
    "bln = bulan.index(tanggal[1].lower())+1\n",
    "tanggal_update = tanggal[2]+'-'+str(bln)+'-'+tanggal[0]\n",
    "date_update = dt.strptime(tanggal_update, '%Y-%m-%d').strftime('%Y-%m-%d')\n",
    "scrape_date = dt.now().strftime('%Y-%m-%d')"
   ]
  },
  {
   "cell_type": "code",
   "execution_count": 5,
   "metadata": {},
   "outputs": [],
   "source": [
    "kabkot = \"Kota Sawahlunto\"\n",
    "provinsi = 'Sumatera Barat'\n",
    "types = 'kabkot'\n",
    "user_pic = 'Dimas Ananda'"
   ]
  },
  {
   "cell_type": "code",
   "execution_count": 6,
   "metadata": {},
   "outputs": [],
   "source": [
    "df = {'scrape_date': scrape_date,\n",
    "      'date_update': date_update,\n",
    "        'provinsi': provinsi,\n",
    "        'kabkot' : kabkot,\n",
    "        'kecamatan': \"\",\n",
    "        'kelurahan':\"\",\n",
    "        'total_odp' : [data[2]],\n",
    "        'total_pdp': [data[6]],\n",
    "        'total_positif':[data[11]],\n",
    "        'positif_sembuh':[data[10]],\n",
    "        'positif_dirawat':[data[7]],\n",
    "        'positif_isolasi':[data[8]],\n",
    "        'positif_meninggal':[data[9]],\n",
    "        'types':types,\n",
    "        'source_link': url,\n",
    "        'user_pic': user_pic}\n",
    "df = pd.DataFrame(df) "
   ]
  },
  {
   "cell_type": "code",
   "execution_count": 7,
   "metadata": {},
   "outputs": [
    {
     "data": {
      "text/html": [
       "<div>\n",
       "<style scoped>\n",
       "    .dataframe tbody tr th:only-of-type {\n",
       "        vertical-align: middle;\n",
       "    }\n",
       "\n",
       "    .dataframe tbody tr th {\n",
       "        vertical-align: top;\n",
       "    }\n",
       "\n",
       "    .dataframe thead th {\n",
       "        text-align: right;\n",
       "    }\n",
       "</style>\n",
       "<table border=\"1\" class=\"dataframe\">\n",
       "  <thead>\n",
       "    <tr style=\"text-align: right;\">\n",
       "      <th></th>\n",
       "      <th>scrape_date</th>\n",
       "      <th>date_update</th>\n",
       "      <th>provinsi</th>\n",
       "      <th>kabkot</th>\n",
       "      <th>kecamatan</th>\n",
       "      <th>kelurahan</th>\n",
       "      <th>total_odp</th>\n",
       "      <th>total_pdp</th>\n",
       "      <th>total_positif</th>\n",
       "      <th>positif_sembuh</th>\n",
       "      <th>positif_dirawat</th>\n",
       "      <th>positif_isolasi</th>\n",
       "      <th>positif_meninggal</th>\n",
       "      <th>types</th>\n",
       "      <th>source_link</th>\n",
       "      <th>user_pic</th>\n",
       "    </tr>\n",
       "  </thead>\n",
       "  <tbody>\n",
       "    <tr>\n",
       "      <th>0</th>\n",
       "      <td>2021-05-06</td>\n",
       "      <td>2021-04-28</td>\n",
       "      <td>Sumatera Barat</td>\n",
       "      <td>Kota Sawahlunto</td>\n",
       "      <td></td>\n",
       "      <td></td>\n",
       "      <td>93</td>\n",
       "      <td>16</td>\n",
       "      <td>576</td>\n",
       "      <td>508</td>\n",
       "      <td>42</td>\n",
       "      <td>17</td>\n",
       "      <td>9</td>\n",
       "      <td>kabkot</td>\n",
       "      <td>https://covid19.sawahluntokota.go.id/</td>\n",
       "      <td>Dimas Ananda</td>\n",
       "    </tr>\n",
       "  </tbody>\n",
       "</table>\n",
       "</div>"
      ],
      "text/plain": [
       "  scrape_date date_update        provinsi           kabkot kecamatan  \\\n",
       "0  2021-05-06  2021-04-28  Sumatera Barat  Kota Sawahlunto             \n",
       "\n",
       "  kelurahan  total_odp  total_pdp  total_positif  positif_sembuh  \\\n",
       "0                   93         16            576             508   \n",
       "\n",
       "   positif_dirawat  positif_isolasi  positif_meninggal   types  \\\n",
       "0               42               17                  9  kabkot   \n",
       "\n",
       "                             source_link      user_pic  \n",
       "0  https://covid19.sawahluntokota.go.id/  Dimas Ananda  "
      ]
     },
     "execution_count": 7,
     "metadata": {},
     "output_type": "execute_result"
    }
   ],
   "source": [
    "df"
   ]
  }
 ],
 "metadata": {
  "kernelspec": {
   "display_name": "Python 3",
   "language": "python",
   "name": "python3"
  },
  "language_info": {
   "codemirror_mode": {
    "name": "ipython",
    "version": 3
   },
   "file_extension": ".py",
   "mimetype": "text/x-python",
   "name": "python",
   "nbconvert_exporter": "python",
   "pygments_lexer": "ipython3",
   "version": "3.7.6"
  }
 },
 "nbformat": 4,
 "nbformat_minor": 4
}
