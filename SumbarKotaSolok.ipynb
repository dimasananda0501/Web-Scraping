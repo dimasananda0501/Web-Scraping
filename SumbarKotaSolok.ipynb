{
 "cells": [
  {
   "cell_type": "code",
   "execution_count": 2,
   "metadata": {},
   "outputs": [],
   "source": [
    "import requests\n",
    "from bs4 import BeautifulSoup\n",
    "import pandas as pd\n",
    "import re\n",
    "from datetime import datetime as dt"
   ]
  },
  {
   "cell_type": "code",
   "execution_count": 3,
   "metadata": {},
   "outputs": [],
   "source": [
    "url = \"https://corona.solokkota.go.id/data_pemantauan\"\n",
    "html_content = requests.get(url).text\n",
    "soup = BeautifulSoup(html_content,\"html.parser\")"
   ]
  },
  {
   "cell_type": "code",
   "execution_count": 4,
   "metadata": {},
   "outputs": [],
   "source": [
    "covid = soup.find(\"table\",class_=\"table table-responsive table-bordered\")\n",
    "#head\n",
    "head_scrape = covid.thead.find_all(\"tr\")[1].find_all(\"td\")\n",
    "head = []\n",
    "for td in range(0,len(head_scrape)) :\n",
    "    head.append(head_scrape[td].text)\n",
    "head.insert(6,\"Kontak Erat\")\n",
    "head[2]=\"Total_PPT\"\n",
    "head[11]=\"Total_PDP\"\n",
    "head[16]=\"Total_Positif\"\n",
    "#data\n",
    "data_scrape = covid.tfoot.find_all(\"th\")[1:18]\n",
    "data = []\n",
    "for th in range(0,len(data_scrape)):\n",
    "    data.append(data_scrape[th].text)"
   ]
  },
  {
   "cell_type": "code",
   "execution_count": 5,
   "metadata": {},
   "outputs": [],
   "source": [
    "#date\n",
    "date = soup.find_all(\"table\",class_=\"table table-responsive table-bordered\")[1].tbody.find_all(\"td\")[1].text\n",
    "tanggal = date[6:18].split()\n",
    "bulan = ['januari', 'februari', 'maret', 'april', 'mei', 'juni','juli','agustus', 'september', 'oktober','november','desember']\n",
    "bln = bulan.index(tanggal[1].lower())+1\n",
    "tanggal_update = tanggal[2]+'-'+str(bln)+'-'+tanggal[0]\n",
    "date_update = dt.strptime(tanggal_update, '%Y-%m-%d').strftime('%Y-%m-%d')\n",
    "scrape_date = dt.now().strftime('%Y-%m-%d')\n",
    "#\n",
    "kabkot = \"Kota Solok\"\n",
    "provinsi = 'Sumatera Barat'\n",
    "types = 'kabkot'\n",
    "user_pic = 'Dimas Ananda'"
   ]
  },
  {
   "cell_type": "code",
   "execution_count": 10,
   "metadata": {},
   "outputs": [
    {
     "data": {
      "text/html": [
       "<div>\n",
       "<style scoped>\n",
       "    .dataframe tbody tr th:only-of-type {\n",
       "        vertical-align: middle;\n",
       "    }\n",
       "\n",
       "    .dataframe tbody tr th {\n",
       "        vertical-align: top;\n",
       "    }\n",
       "\n",
       "    .dataframe thead th {\n",
       "        text-align: right;\n",
       "    }\n",
       "</style>\n",
       "<table border=\"1\" class=\"dataframe\">\n",
       "  <thead>\n",
       "    <tr style=\"text-align: right;\">\n",
       "      <th></th>\n",
       "      <th>Masa Notifikasi</th>\n",
       "      <th>Habis Masa</th>\n",
       "      <th>Total_PPT</th>\n",
       "      <th>Dalam Pemantauan</th>\n",
       "      <th>Selesai Pemantauan</th>\n",
       "      <th>Total</th>\n",
       "      <th>Kontak Erat</th>\n",
       "      <th>Masih dirawat</th>\n",
       "      <th>Isolasi dirumah</th>\n",
       "      <th>Negatif</th>\n",
       "      <th>Sembuh dan Pulang</th>\n",
       "      <th>Total_PDP</th>\n",
       "      <th>Dirawat</th>\n",
       "      <th>Isolasi Diri dirumah</th>\n",
       "      <th>Meninggal</th>\n",
       "      <th>Sembuh</th>\n",
       "      <th>Total_Positif</th>\n",
       "    </tr>\n",
       "  </thead>\n",
       "  <tbody>\n",
       "    <tr>\n",
       "      <th>0</th>\n",
       "      <td></td>\n",
       "      <td></td>\n",
       "      <td></td>\n",
       "      <td></td>\n",
       "      <td></td>\n",
       "      <td></td>\n",
       "      <td>598</td>\n",
       "      <td></td>\n",
       "      <td></td>\n",
       "      <td></td>\n",
       "      <td></td>\n",
       "      <td></td>\n",
       "      <td>8</td>\n",
       "      <td>99</td>\n",
       "      <td>18</td>\n",
       "      <td>876</td>\n",
       "      <td>1001</td>\n",
       "    </tr>\n",
       "  </tbody>\n",
       "</table>\n",
       "</div>"
      ],
      "text/plain": [
       "  Masa Notifikasi Habis Masa Total_PPT Dalam Pemantauan Selesai Pemantauan  \\\n",
       "0                                                                            \n",
       "\n",
       "  Total Kontak Erat Masih dirawat Isolasi dirumah Negatif Sembuh dan Pulang  \\\n",
       "0               598                                                           \n",
       "\n",
       "  Total_PDP Dirawat Isolasi Diri dirumah Meninggal Sembuh Total_Positif  \n",
       "0                 8                   99        18    876          1001  "
      ]
     },
     "execution_count": 10,
     "metadata": {},
     "output_type": "execute_result"
    }
   ],
   "source": [
    "df0 = pd.DataFrame(data=[data],columns=head)\n",
    "df0"
   ]
  },
  {
   "cell_type": "code",
   "execution_count": 11,
   "metadata": {},
   "outputs": [],
   "source": [
    "df = {'scrape_date': scrape_date,\n",
    "      'date_update': date_update,\n",
    "        'provinsi': provinsi,\n",
    "        'kabkot' : kabkot,\n",
    "        'kecamatan': \"\",\n",
    "        'kelurahan':\"\",\n",
    "        'total_odp' : df0['Kontak Erat'],\n",
    "        'total_pdp': df0['Total_PDP'],\n",
    "        'total_positif':df0['Total_Positif'],\n",
    "        'positif_sembuh':df0['Sembuh'],\n",
    "        'positif_dirawat':df0['Dirawat'],\n",
    "        'positif_isolasi':df0['Isolasi Diri dirumah'],\n",
    "        'positif_meninggal':df0['Meninggal'],\n",
    "        'types':types,\n",
    "        'source_link': url,\n",
    "        'user_pic': user_pic}\n",
    "df = pd.DataFrame(df) "
   ]
  },
  {
   "cell_type": "code",
   "execution_count": 12,
   "metadata": {},
   "outputs": [
    {
     "data": {
      "text/html": [
       "<div>\n",
       "<style scoped>\n",
       "    .dataframe tbody tr th:only-of-type {\n",
       "        vertical-align: middle;\n",
       "    }\n",
       "\n",
       "    .dataframe tbody tr th {\n",
       "        vertical-align: top;\n",
       "    }\n",
       "\n",
       "    .dataframe thead th {\n",
       "        text-align: right;\n",
       "    }\n",
       "</style>\n",
       "<table border=\"1\" class=\"dataframe\">\n",
       "  <thead>\n",
       "    <tr style=\"text-align: right;\">\n",
       "      <th></th>\n",
       "      <th>scrape_date</th>\n",
       "      <th>date_update</th>\n",
       "      <th>provinsi</th>\n",
       "      <th>kabkot</th>\n",
       "      <th>kecamatan</th>\n",
       "      <th>kelurahan</th>\n",
       "      <th>total_odp</th>\n",
       "      <th>total_pdp</th>\n",
       "      <th>total_positif</th>\n",
       "      <th>positif_sembuh</th>\n",
       "      <th>positif_dirawat</th>\n",
       "      <th>positif_isolasi</th>\n",
       "      <th>positif_meninggal</th>\n",
       "      <th>types</th>\n",
       "      <th>source_link</th>\n",
       "      <th>user_pic</th>\n",
       "    </tr>\n",
       "  </thead>\n",
       "  <tbody>\n",
       "    <tr>\n",
       "      <th>0</th>\n",
       "      <td>2021-05-05</td>\n",
       "      <td>2021-05-05</td>\n",
       "      <td>Sumatera Barat</td>\n",
       "      <td>Kota Solok</td>\n",
       "      <td></td>\n",
       "      <td></td>\n",
       "      <td>598</td>\n",
       "      <td></td>\n",
       "      <td>1001</td>\n",
       "      <td>876</td>\n",
       "      <td>8</td>\n",
       "      <td>99</td>\n",
       "      <td>18</td>\n",
       "      <td>kabkot</td>\n",
       "      <td>https://corona.solokkota.go.id/data_pemantauan</td>\n",
       "      <td>Dimas Ananda</td>\n",
       "    </tr>\n",
       "  </tbody>\n",
       "</table>\n",
       "</div>"
      ],
      "text/plain": [
       "  scrape_date date_update        provinsi      kabkot kecamatan kelurahan  \\\n",
       "0  2021-05-05  2021-05-05  Sumatera Barat  Kota Solok                       \n",
       "\n",
       "  total_odp total_pdp total_positif positif_sembuh positif_dirawat  \\\n",
       "0       598                    1001            876               8   \n",
       "\n",
       "  positif_isolasi positif_meninggal   types  \\\n",
       "0              99                18  kabkot   \n",
       "\n",
       "                                      source_link      user_pic  \n",
       "0  https://corona.solokkota.go.id/data_pemantauan  Dimas Ananda  "
      ]
     },
     "execution_count": 12,
     "metadata": {},
     "output_type": "execute_result"
    }
   ],
   "source": [
    "df"
   ]
  },
  {
   "cell_type": "code",
   "execution_count": null,
   "metadata": {},
   "outputs": [],
   "source": []
  }
 ],
 "metadata": {
  "kernelspec": {
   "display_name": "Python 3",
   "language": "python",
   "name": "python3"
  },
  "language_info": {
   "codemirror_mode": {
    "name": "ipython",
    "version": 3
   },
   "file_extension": ".py",
   "mimetype": "text/x-python",
   "name": "python",
   "nbconvert_exporter": "python",
   "pygments_lexer": "ipython3",
   "version": "3.7.10"
  }
 },
 "nbformat": 4,
 "nbformat_minor": 4
}
