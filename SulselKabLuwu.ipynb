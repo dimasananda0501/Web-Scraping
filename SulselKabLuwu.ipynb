{
 "cells": [
  {
   "cell_type": "code",
   "execution_count": 14,
   "metadata": {},
   "outputs": [],
   "source": [
    "import requests\n",
    "from bs4 import BeautifulSoup\n",
    "import pandas as pd\n",
    "import re\n",
    "from datetime import datetime as dt"
   ]
  },
  {
   "cell_type": "code",
   "execution_count": 65,
   "metadata": {},
   "outputs": [],
   "source": [
    "url = \"https://covid19.luwukab.go.id/\"\n",
    "html_content = requests.get(url).text\n",
    "soup = BeautifulSoup(html_content,\"html.parser\")\n",
    "kabkot = \"Luwu\"\n",
    "provinsi = 'Sulawesi Selatan'\n",
    "types = 'kabkot'\n",
    "user_pic = 'Dimas Ananda'"
   ]
  },
  {
   "cell_type": "code",
   "execution_count": 37,
   "metadata": {},
   "outputs": [],
   "source": [
    "covid = soup.find_all(\"div\",class_=\"card-body\")[0:4]\n",
    "data = []\n",
    "for i in range(0,len(covid)):\n",
    "    for num in covid[i].text.split():\n",
    "        if num.isdigit():\n",
    "            data.append(int(num))"
   ]
  },
  {
   "cell_type": "code",
   "execution_count": 107,
   "metadata": {},
   "outputs": [],
   "source": [
    "date = soup.find(\"div\",class_=\"head-title\")\n",
    "tanggal_update = str(date.input)[47:57]\n",
    "date_update = dt.strptime(tanggal_update, '%Y-%m-%d').strftime('%Y-%m-%d')\n",
    "scrape_date = dt.now().strftime('%Y-%m-%d')"
   ]
  },
  {
   "cell_type": "code",
   "execution_count": 110,
   "metadata": {},
   "outputs": [],
   "source": [
    "df = {'scrape_date': scrape_date,\n",
    "      'date_update': date_update,\n",
    "        'provinsi': provinsi,\n",
    "        'kabkot' : kabkot,\n",
    "        'kecamatan': \"\",\n",
    "        'kelurahan':\"\",\n",
    "        'total_odp' : \"\",\n",
    "        'total_pdp': \"\",\n",
    "        'total_positif':[data[0]],\n",
    "        'positif_sembuh':[data[2]],\n",
    "        'positif_dirawat':\"\",\n",
    "        'positif_isolasi':\"\",\n",
    "        'positif_meninggal':[data[3]],\n",
    "        'types':types,\n",
    "        'source_link': url,\n",
    "        'user_pic': user_pic}\n",
    "df = pd.DataFrame(df) "
   ]
  },
  {
   "cell_type": "code",
   "execution_count": 111,
   "metadata": {},
   "outputs": [
    {
     "data": {
      "text/html": [
       "<div>\n",
       "<style scoped>\n",
       "    .dataframe tbody tr th:only-of-type {\n",
       "        vertical-align: middle;\n",
       "    }\n",
       "\n",
       "    .dataframe tbody tr th {\n",
       "        vertical-align: top;\n",
       "    }\n",
       "\n",
       "    .dataframe thead th {\n",
       "        text-align: right;\n",
       "    }\n",
       "</style>\n",
       "<table border=\"1\" class=\"dataframe\">\n",
       "  <thead>\n",
       "    <tr style=\"text-align: right;\">\n",
       "      <th></th>\n",
       "      <th>scrape_date</th>\n",
       "      <th>date_update</th>\n",
       "      <th>provinsi</th>\n",
       "      <th>kabkot</th>\n",
       "      <th>kecamatan</th>\n",
       "      <th>kelurahan</th>\n",
       "      <th>total_odp</th>\n",
       "      <th>total_pdp</th>\n",
       "      <th>total_positif</th>\n",
       "      <th>positif_sembuh</th>\n",
       "      <th>positif_dirawat</th>\n",
       "      <th>positif_isolasi</th>\n",
       "      <th>positif_meninggal</th>\n",
       "      <th>types</th>\n",
       "      <th>source_link</th>\n",
       "      <th>user_pic</th>\n",
       "    </tr>\n",
       "  </thead>\n",
       "  <tbody>\n",
       "    <tr>\n",
       "      <th>0</th>\n",
       "      <td>2021-05-06</td>\n",
       "      <td>2021-05-05</td>\n",
       "      <td>Sulawesi Selatan</td>\n",
       "      <td>Luwu</td>\n",
       "      <td></td>\n",
       "      <td></td>\n",
       "      <td></td>\n",
       "      <td></td>\n",
       "      <td>679</td>\n",
       "      <td>648</td>\n",
       "      <td></td>\n",
       "      <td></td>\n",
       "      <td>26</td>\n",
       "      <td>kabkot</td>\n",
       "      <td>https://covid19.luwukab.go.id/</td>\n",
       "      <td>Dimas Ananda</td>\n",
       "    </tr>\n",
       "  </tbody>\n",
       "</table>\n",
       "</div>"
      ],
      "text/plain": [
       "  scrape_date date_update          provinsi kabkot kecamatan kelurahan  \\\n",
       "0  2021-05-06  2021-05-05  Sulawesi Selatan   Luwu                       \n",
       "\n",
       "  total_odp total_pdp  total_positif  positif_sembuh positif_dirawat  \\\n",
       "0                                679             648                   \n",
       "\n",
       "  positif_isolasi  positif_meninggal   types                     source_link  \\\n",
       "0                                 26  kabkot  https://covid19.luwukab.go.id/   \n",
       "\n",
       "       user_pic  \n",
       "0  Dimas Ananda  "
      ]
     },
     "execution_count": 111,
     "metadata": {},
     "output_type": "execute_result"
    }
   ],
   "source": [
    "df"
   ]
  },
  {
   "cell_type": "code",
   "execution_count": null,
   "metadata": {},
   "outputs": [],
   "source": []
  }
 ],
 "metadata": {
  "kernelspec": {
   "display_name": "Python 3",
   "language": "python",
   "name": "python3"
  },
  "language_info": {
   "codemirror_mode": {
    "name": "ipython",
    "version": 3
   },
   "file_extension": ".py",
   "mimetype": "text/x-python",
   "name": "python",
   "nbconvert_exporter": "python",
   "pygments_lexer": "ipython3",
   "version": "3.7.6"
  }
 },
 "nbformat": 4,
 "nbformat_minor": 4
}
