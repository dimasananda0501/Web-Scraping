{
 "cells": [
  {
   "cell_type": "code",
   "execution_count": 1,
   "id": "ae520eaf",
   "metadata": {},
   "outputs": [],
   "source": [
    "import requests\n",
    "from bs4 import BeautifulSoup\n",
    "import pandas as pd\n",
    "import re\n",
    "from datetime import datetime as dt"
   ]
  },
  {
   "cell_type": "code",
   "execution_count": 2,
   "id": "fcd9bc8a",
   "metadata": {},
   "outputs": [],
   "source": [
    "url = \"http://corona.sultengprov.go.id/data_statistik\"\n",
    "html_content = requests.get(url).text\n",
    "soup = BeautifulSoup(html_content,\"html.parser\")"
   ]
  },
  {
   "cell_type": "code",
   "execution_count": 3,
   "id": "bf51a8a3",
   "metadata": {},
   "outputs": [],
   "source": [
    "#Data\n",
    "covid = soup.find(\"ul\",class_=\"list-unstyled list-covid\").find_all(\"li\")[8].span.text.split()\n",
    "head = covid[::3]\n",
    "head =[word.replace(':','') for word in head]\n",
    "data = covid[1::3]\n",
    "df0=pd.DataFrame(data=[data], columns=head)"
   ]
  },
  {
   "cell_type": "code",
   "execution_count": 4,
   "id": "3e88e344",
   "metadata": {},
   "outputs": [],
   "source": [
    "#Date\n",
    "date=soup.find(\"p\",class_=\"text-black font-size-12\").text\n",
    "tanggal = date.split()[10:13]\n",
    "bulan = ['januari', 'februari', 'maret', 'april', 'mei', 'juni','juli','agustus', 'september', 'oktober','november','desember']\n",
    "bln = bulan.index(tanggal[1].lower())+1\n",
    "tanggal_update = tanggal[2]+'-'+str(bln)+'-'+tanggal[0]\n",
    "date_update = dt.strptime(tanggal_update, '%Y-%m-%d').strftime('%Y-%m-%d')\n",
    "scrape_date = dt.now().strftime('%Y-%m-%d')\n",
    "#\n",
    "kabkot = \"Banggai\"\n",
    "provinsi = 'Sulawesi Tengah'\n",
    "types = 'kabkot'\n",
    "user_pic = 'Dimas Ananda'"
   ]
  },
  {
   "cell_type": "code",
   "execution_count": 5,
   "id": "ef42a195",
   "metadata": {},
   "outputs": [],
   "source": [
    "df = {'scrape_date': scrape_date,\n",
    "      'date_update': date_update,\n",
    "        'provinsi': provinsi,\n",
    "        'kabkot' : kabkot,\n",
    "        'kecamatan': \"\",\n",
    "        'kelurahan':\"\",\n",
    "        'total_odp' : \"\",\n",
    "        'total_pdp': \"\",\n",
    "        'total_positif':df0['Positif'],\n",
    "        'positif_sembuh':df0['Sembuh'],\n",
    "        'positif_dirawat':\"\",\n",
    "        'positif_isolasi':\"\",\n",
    "        'positif_meninggal':df0['Meninggal'],\n",
    "        'types':types,\n",
    "        'source_link': url,\n",
    "        'user_pic': user_pic}\n",
    "df = pd.DataFrame(df) "
   ]
  },
  {
   "cell_type": "code",
   "execution_count": 6,
   "id": "b39eaeb6",
   "metadata": {},
   "outputs": [
    {
     "data": {
      "text/html": [
       "<div>\n",
       "<style scoped>\n",
       "    .dataframe tbody tr th:only-of-type {\n",
       "        vertical-align: middle;\n",
       "    }\n",
       "\n",
       "    .dataframe tbody tr th {\n",
       "        vertical-align: top;\n",
       "    }\n",
       "\n",
       "    .dataframe thead th {\n",
       "        text-align: right;\n",
       "    }\n",
       "</style>\n",
       "<table border=\"1\" class=\"dataframe\">\n",
       "  <thead>\n",
       "    <tr style=\"text-align: right;\">\n",
       "      <th></th>\n",
       "      <th>scrape_date</th>\n",
       "      <th>date_update</th>\n",
       "      <th>provinsi</th>\n",
       "      <th>kabkot</th>\n",
       "      <th>kecamatan</th>\n",
       "      <th>kelurahan</th>\n",
       "      <th>total_odp</th>\n",
       "      <th>total_pdp</th>\n",
       "      <th>total_positif</th>\n",
       "      <th>positif_sembuh</th>\n",
       "      <th>positif_dirawat</th>\n",
       "      <th>positif_isolasi</th>\n",
       "      <th>positif_meninggal</th>\n",
       "      <th>types</th>\n",
       "      <th>source_link</th>\n",
       "      <th>user_pic</th>\n",
       "    </tr>\n",
       "  </thead>\n",
       "  <tbody>\n",
       "    <tr>\n",
       "      <th>0</th>\n",
       "      <td>2021-05-16</td>\n",
       "      <td>2021-05-12</td>\n",
       "      <td>Sulawesi Tengah</td>\n",
       "      <td>Banggai</td>\n",
       "      <td></td>\n",
       "      <td></td>\n",
       "      <td></td>\n",
       "      <td></td>\n",
       "      <td>1273</td>\n",
       "      <td>1210</td>\n",
       "      <td></td>\n",
       "      <td></td>\n",
       "      <td>43</td>\n",
       "      <td>kabkot</td>\n",
       "      <td>http://corona.sultengprov.go.id/data_statistik</td>\n",
       "      <td>Dimas Ananda</td>\n",
       "    </tr>\n",
       "  </tbody>\n",
       "</table>\n",
       "</div>"
      ],
      "text/plain": [
       "  scrape_date date_update         provinsi   kabkot kecamatan kelurahan  \\\n",
       "0  2021-05-16  2021-05-12  Sulawesi Tengah  Banggai                       \n",
       "\n",
       "  total_odp total_pdp total_positif positif_sembuh positif_dirawat  \\\n",
       "0                              1273           1210                   \n",
       "\n",
       "  positif_isolasi positif_meninggal   types  \\\n",
       "0                                43  kabkot   \n",
       "\n",
       "                                      source_link      user_pic  \n",
       "0  http://corona.sultengprov.go.id/data_statistik  Dimas Ananda  "
      ]
     },
     "execution_count": 6,
     "metadata": {},
     "output_type": "execute_result"
    }
   ],
   "source": [
    "df"
   ]
  },
  {
   "cell_type": "code",
   "execution_count": null,
   "id": "b6912a48",
   "metadata": {},
   "outputs": [],
   "source": []
  }
 ],
 "metadata": {
  "kernelspec": {
   "display_name": "Python 3",
   "language": "python",
   "name": "python3"
  },
  "language_info": {
   "codemirror_mode": {
    "name": "ipython",
    "version": 3
   },
   "file_extension": ".py",
   "mimetype": "text/x-python",
   "name": "python",
   "nbconvert_exporter": "python",
   "pygments_lexer": "ipython3",
   "version": "3.7.10"
  }
 },
 "nbformat": 4,
 "nbformat_minor": 5
}
